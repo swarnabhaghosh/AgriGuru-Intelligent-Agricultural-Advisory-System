{
 "cells": [
  {
   "cell_type": "code",
   "execution_count": 1,
   "id": "8f85556c-e2ea-4010-bb26-052954cc88fc",
   "metadata": {},
   "outputs": [],
   "source": [
    "import joblib\n",
    "import pandas as pd"
   ]
  },
  {
   "cell_type": "code",
   "execution_count": 2,
   "id": "78a6a687-63b8-48f9-a9b5-5dcf78f3d86d",
   "metadata": {},
   "outputs": [],
   "source": [
    "# Values: N, P, K, pH, temperature (°C), humidity (%), rainfall (mm)\n",
    "sample_input = {\n",
    "    \"N\": 90,\n",
    "    \"P\": 42,\n",
    "    \"K\": 43,\n",
    "    \"ph\": 6.5,\n",
    "    \"temperature\": 27.0,\n",
    "    \"humidity\": 75.0,\n",
    "    \"rainfall\": 160.0\n",
    "}"
   ]
  },
  {
   "cell_type": "code",
   "execution_count": 3,
   "id": "391b8384-da92-429a-9862-d9a3d340f073",
   "metadata": {},
   "outputs": [],
   "source": [
    "model = joblib.load(\"crop_model.pkl\")\n",
    "le = joblib.load(\"label_encoder.pkl\")"
   ]
  },
  {
   "cell_type": "code",
   "execution_count": 4,
   "id": "44120202-8409-44e4-9ef7-613d10e4a493",
   "metadata": {},
   "outputs": [
    {
     "name": "stdout",
     "output_type": "stream",
     "text": [
      "🌱 Recommended Crop: ['jute']\n"
     ]
    }
   ],
   "source": [
    "# Convert input to DataFrame\n",
    "input_df = pd.DataFrame([sample_input])\n",
    "\n",
    "# Predict\n",
    "pred_encoded = model.predict(input_df)[0]\n",
    "\n",
    "# Decode prediction\n",
    "pred_crop = le.inverse_transform([pred_encoded])\n",
    "\n",
    "print(\"🌱 Recommended Crop:\", pred_crop)"
   ]
  },
  {
   "cell_type": "code",
   "execution_count": null,
   "id": "d5636018-0c03-43b6-8178-951132663a38",
   "metadata": {},
   "outputs": [],
   "source": []
  },
  {
   "cell_type": "code",
   "execution_count": null,
   "id": "4a6d4332-62da-4371-ac29-57c84a1917c9",
   "metadata": {},
   "outputs": [],
   "source": []
  }
 ],
 "metadata": {
  "kernelspec": {
   "display_name": "Python 3 (ipykernel)",
   "language": "python",
   "name": "python3"
  },
  "language_info": {
   "codemirror_mode": {
    "name": "ipython",
    "version": 3
   },
   "file_extension": ".py",
   "mimetype": "text/x-python",
   "name": "python",
   "nbconvert_exporter": "python",
   "pygments_lexer": "ipython3",
   "version": "3.13.2"
  }
 },
 "nbformat": 4,
 "nbformat_minor": 5
}
